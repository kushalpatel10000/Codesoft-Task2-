{
 "cells": [
  {
   "cell_type": "code",
   "execution_count": 1,
   "id": "403384b9",
   "metadata": {},
   "outputs": [
    {
     "name": "stdout",
     "output_type": "stream",
     "text": [
      "Enter your choice of Operation\n",
      "1. Addition(+)\n",
      "2. Subtraction(-)\n",
      "3. Multiplication(*) \n",
      "4. Division(/)\n",
      "5. Square(x2)\n",
      "6. Sqare_root(√)\n",
      "1\n",
      "Enter number 1: 24\n",
      "Enter number 2: 18\n",
      "\n",
      "Addition = 42\n"
     ]
    }
   ],
   "source": [
    "#TASK 2 -Codesoft\n",
    "\n",
    "#Design a simple calculator with basic arithmetic operations. Prompt the user to input two numbers and an operation choice.\n",
    "#Perform the calculation and display the result.\n",
    "import math\n",
    "\n",
    "print(\"Enter your choice of Operation\\n1. Addition(+)\\n2. Subtraction(-)\\n3. Multiplication(*) \\n4. Division(/)\\n5. Square(x2)\\n6. Sqare_root(√)\")\n",
    "\n",
    "def addition(num1,num2):\n",
    "    return num1 + num2\n",
    "\n",
    "def subtraction(num1,num2):\n",
    "    return num1 - num2\n",
    "\n",
    "def multiplication(num1,num2):\n",
    "    return num1 * num2\n",
    "\n",
    "def division(num1,num2):\n",
    "    return num1 / num2\n",
    "\n",
    "def square(num):\n",
    "    return num*num\n",
    "\n",
    "def sq_rt(num):\n",
    "    return math.sqrt(num)\n",
    "\n",
    "choice=int(input())\n",
    "\n",
    "if(choice>=1 and choice <=4):\n",
    "    num1=int(input(\"Enter number 1: \"))\n",
    "    num2=int(input(\"Enter number 2: \"))\n",
    "\n",
    "elif(choice==5 or choice ==6):\n",
    "    num1=int(input(\"Enter number 1: \"))\n",
    "\n",
    "\n",
    "if(choice==1):\n",
    "    add=addition(num1,num2)\n",
    "    print(\"\\nAddition = \"+str(add))\n",
    "\n",
    "elif(choice==2):\n",
    "    sub=subtraction(num1,num2)\n",
    "    print(\"\\nSubtraction=\"+str(sub))\n",
    "    \n",
    "elif(choice==3):\n",
    "    mul=multiplication(num1,num2)\n",
    "    print(\"\\nMultiplication=\"+str(mul))\n",
    "elif(choice==4):\n",
    "    div=division(num1,num2)\n",
    "    print(\"\\nDivision=\"+str(div))\n",
    "elif(choice==5):\n",
    "    power=square(num1)\n",
    "    print(\"\\nSquare= \"+str(power))\n",
    "elif(choice==6):\n",
    "    sqrt=sq_rt(num1)\n",
    "    print(\"\\nSquare root: \"+str(sqrt))\n",
    "    \n",
    "    \n",
    "else:\n",
    "    print(\"Invalid Choice\")"
   ]
  },
  {
   "cell_type": "code",
   "execution_count": null,
   "id": "3716284a",
   "metadata": {},
   "outputs": [],
   "source": []
  }
 ],
 "metadata": {
  "kernelspec": {
   "display_name": "Python 3 (ipykernel)",
   "language": "python",
   "name": "python3"
  },
  "language_info": {
   "codemirror_mode": {
    "name": "ipython",
    "version": 3
   },
   "file_extension": ".py",
   "mimetype": "text/x-python",
   "name": "python",
   "nbconvert_exporter": "python",
   "pygments_lexer": "ipython3",
   "version": "3.11.5"
  }
 },
 "nbformat": 4,
 "nbformat_minor": 5
}
